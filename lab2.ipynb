{
 "cells": [
  {
   "cell_type": "markdown",
   "id": "7526eab5",
   "metadata": {},
   "source": [
    "\n",
    "# <div style=\"text-align: center;\">  Підготовка та аналіз даних  </div> #\n",
    "\n",
    "# <div style=\"text-align: center;\"> _Лабораторна робота №2_ </div> #\n",
    "\n",
    "\n",
    "\n",
    "## <div style=\"text-align: right;\"> _ФБ-24 Бадрак Іван_ </div> ##\n",
    "\n",
    "\n",
    "\n",
    "\n",
    "\n",
    "### 1. Створити env в якому будуть встановлені всі необхідні бібліотеки та налаштування для данної лабораторної роботи. ###\n",
    "### Для цього завантажив Anaconda Navigator, створив новий env та проімпортував бібліотеки, які необхідні для виконання лабораторної роботи.\n",
    "### 2. Для кожної із адміністративних одиниць України завантажити тестові структуровані файли, що містять значення VHI-індексу. Ця процедура має бути автоматизована, параметром процедури має бути індекс (номер) області. При зберіганні файлу до його імені потрібно додати дату та час завантаження; ###"
   ]
  },
  {
   "cell_type": "code",
   "execution_count": 53,
   "id": "4771d116-a1ee-4dc1-a5ac-f88286d12b4a",
   "metadata": {},
   "outputs": [
    {
     "name": "stdout",
     "output_type": "stream",
     "text": [
      "NOAA_ID1_26-03-2024-13-57-25.csv успішно завантажений\n",
      "NOAA_ID2_26-03-2024-13-57-25.csv успішно завантажений\n",
      "NOAA_ID3_26-03-2024-13-57-25.csv успішно завантажений\n",
      "NOAA_ID4_26-03-2024-13-57-25.csv успішно завантажений\n",
      "NOAA_ID5_26-03-2024-13-57-25.csv успішно завантажений\n",
      "NOAA_ID6_26-03-2024-13-57-25.csv успішно завантажений\n",
      "NOAA_ID7_26-03-2024-13-57-25.csv успішно завантажений\n",
      "NOAA_ID8_26-03-2024-13-57-25.csv успішно завантажений\n",
      "NOAA_ID9_26-03-2024-13-57-25.csv успішно завантажений\n",
      "NOAA_ID10_26-03-2024-13-57-25.csv успішно завантажений\n",
      "NOAA_ID11_26-03-2024-13-57-25.csv успішно завантажений\n",
      "NOAA_ID12_26-03-2024-13-57-25.csv успішно завантажений\n",
      "NOAA_ID13_26-03-2024-13-57-25.csv успішно завантажений\n",
      "NOAA_ID14_26-03-2024-13-57-25.csv успішно завантажений\n",
      "NOAA_ID15_26-03-2024-13-57-25.csv успішно завантажений\n",
      "NOAA_ID16_26-03-2024-13-57-25.csv успішно завантажений\n",
      "NOAA_ID17_26-03-2024-13-57-25.csv успішно завантажений\n",
      "NOAA_ID18_26-03-2024-13-57-25.csv успішно завантажений\n",
      "NOAA_ID19_26-03-2024-13-57-25.csv успішно завантажений\n",
      "NOAA_ID20_26-03-2024-13-57-25.csv успішно завантажений\n",
      "NOAA_ID21_26-03-2024-13-57-25.csv успішно завантажений\n",
      "NOAA_ID22_26-03-2024-13-57-25.csv успішно завантажений\n",
      "NOAA_ID23_26-03-2024-13-57-25.csv успішно завантажений\n",
      "NOAA_ID24_26-03-2024-13-57-25.csv успішно завантажений\n",
      "NOAA_ID25_26-03-2024-13-57-25.csv успішно завантажений\n",
      "NOAA_ID26_26-03-2024-13-57-25.csv успішно завантажений\n",
      "NOAA_ID27_26-03-2024-13-57-25.csv успішно завантажений\n"
     ]
    },
    {
     "data": {
      "text/plain": [
       "'Файли завантажені успішно'"
      ]
     },
     "execution_count": 53,
     "metadata": {},
     "output_type": "execute_result"
    }
   ],
   "source": [
    "from datetime import datetime\n",
    "import os\n",
    "import urllib\n",
    "\n",
    "url=\"https://www.star.nesdis.noaa.gov/smcd/emb/vci/VH/get_TS_admin.php?country=UKR&provinceID={}&year1=1981&year2=2023&type=Mean\"\n",
    "datentime = datetime.now().strftime(\"%d-%m-%Y-%H-%M-%S\")\n",
    "\n",
    "def DataDownload(url, datentime):\n",
    "    if not os.path.exists('DataCSV'):\n",
    "        os.makedirs('DataCSV')\n",
    "\n",
    "    for regionid in range(1, 28):\n",
    "        file_exists = False\n",
    "        for file in os.listdir('DataCSV'):   \n",
    "            if file.startswith(f'NOAA_ID{regionid}'):\n",
    "                print (f'Файл NOAA_ID{regionid} вже завантажений')\n",
    "                file_exists = True\n",
    "                break\n",
    "        if file_exists:\n",
    "            continue\n",
    "        URL = url.format(regionid)\n",
    "        filename = f\"NOAA_ID{regionid}_{datentime}.csv\"\n",
    "        filepath = os.path.join(\"DataCSV\", filename)\n",
    "        try:\n",
    "            urllib.request.urlretrieve(URL, filepath)\n",
    "            print (f\"{filename} успішно завантажений\")\n",
    "        except Exception as exc:\n",
    "            print(f\"Відбулася помилка при скачуванні файлу для номеру області {regionid}: {str(exc)}\")\n",
    "\n",
    "    return 'Файли завантажені успішно'\n",
    "    \n",
    "\n",
    "DataDownload(url, datentime)"
   ]
  },
  {
   "cell_type": "markdown",
   "id": "93fdb631",
   "metadata": {},
   "source": [
    "### 3. Зчитати завантажені текстові файли у фрейм (детальніше про роботу із фреймами буде розказано у подальших лабораторних роботах). Імена стовбців фрейму мають бути змістовними та легкими для сприйняття (не повинно бути спеціалізованих символів, пробілів тощо). Ця задача має бути реалізована у вигляді окремої процедури, яка на вхід приймає шлях до директорії, в якій зберігаються файли; ###"
   ]
  },
  {
   "cell_type": "code",
   "execution_count": 69,
   "id": "d3923d7a-c845-4e02-804c-36f814c8518b",
   "metadata": {},
   "outputs": [
    {
     "name": "stdout",
     "output_type": "stream",
     "text": [
      "year     object\n",
      "week    float64\n",
      " SMN    float64\n",
      "SMT     float64\n",
      "VCI     float64\n",
      "TCI     float64\n",
      "VHI     float64\n",
      "ID        int64\n",
      "dtype: object\n",
      "       year  week    SMN     SMT    VCI    TCI    VHI  ID\n",
      "0      1982   1.0  0.059  258.24  51.11  48.78  49.95  10\n",
      "1      1982   2.0  0.063  261.53  55.89  38.20  47.04  10\n",
      "2      1982   3.0  0.063  263.45  57.30  32.69  44.99  10\n",
      "3      1982   4.0  0.061  265.10  53.96  28.62  41.29  10\n",
      "4      1982   5.0  0.058  266.42  46.87  28.57  37.72  10\n",
      "...     ...   ...    ...     ...    ...    ...    ...  ..\n",
      "58989  2023  48.0  0.101  277.36  37.50  15.86  26.68   9\n",
      "58990  2023  49.0  0.097  275.73  38.12  16.77  27.45   9\n",
      "58991  2023  50.0  0.097  275.42  40.98  13.16  27.07   9\n",
      "58992  2023  51.0  0.097  274.98  43.98  11.14  27.56   9\n",
      "58993  2023  52.0  0.098  274.62  47.00  10.39  28.70   9\n",
      "\n",
      "[57618 rows x 8 columns]\n"
     ]
    }
   ],
   "source": [
    "import pandas as pd\n",
    "import os\n",
    "\n",
    "def CleanData(Path):\n",
    "    list = []\n",
    "\n",
    "    if not os.path.exists(Path) or not os.path.isdir(Path):\n",
    "        print ('Вказаного каталогу не існує або не є каталогом')\n",
    "    else:\n",
    "        noaafiles = os.listdir(Path)\n",
    "        for file in noaafiles:\n",
    "\n",
    "            if file.endswith('.csv'):\n",
    "                \n",
    "                filepath = os.path.join(Path, file)   # Взяти індекси областей з назв файлів за допомогою split, зробити перевірку на NaN (вивести скільки їх в датафреймі)\n",
    "                df = pd.read_csv(filepath, index_col=False, header=1)  \n",
    "                df['ID'] = int(file.split('_')[1][2:]) \n",
    "                list.append(df)\n",
    "                \n",
    "        df = pd.concat(list).drop_duplicates().reset_index(drop=True)\n",
    "\n",
    "    # print (df) # before\n",
    "    df = df.rename(columns={' VHI<br>': 'VHI'})\n",
    "\n",
    "    # print (df.head())\n",
    "    df['year'].replace({'<tt><pre>1982': '1982'}, inplace=True)\n",
    "    df = df.drop(df.loc[df['VHI'] == -1].index)\n",
    "\n",
    "    # df = df.drop(58994)\n",
    "\n",
    "    # nan_count = df.isna().sum().sum()\n",
    "    # print (nan_count)\n",
    "    df = df.dropna()\n",
    "\n",
    "    # print (df.dtypes)\n",
    "    df['year'] = pd.to_numeric(df['year'], errors='coerce')\n",
    "\n",
    "    # print (f'{df.head()}\\n{df.dtypes}\\n{df.tail()}')\n",
    "    # print (df)\n",
    "    return df\n",
    "\n",
    "path = 'DataCSV'\n",
    "clean_df = CleanData(path)\n",
    "print (clean_df)"
   ]
  },
  {
   "cell_type": "markdown",
   "id": "ec9014ff",
   "metadata": {},
   "source": [
    "### 4. Реалізувати процедуру, яка змінить індекси областей, які використані на порталі NOAA на наступні: ###"
   ]
  },
  {
   "cell_type": "code",
   "execution_count": 70,
   "id": "8c162e25",
   "metadata": {},
   "outputs": [
    {
     "name": "stdout",
     "output_type": "stream",
     "text": [
      "year     object\n",
      "week    float64\n",
      " SMN    float64\n",
      "SMT     float64\n",
      "VCI     float64\n",
      "TCI     float64\n",
      "VHI     float64\n",
      "ID        int64\n",
      "dtype: object\n",
      "       year  week    SMN     SMT    VCI    TCI    VHI  ID\n",
      "0      1982   1.0  0.059  258.24  51.11  48.78  49.95  21\n",
      "1      1982   2.0  0.063  261.53  55.89  38.20  47.04  21\n",
      "2      1982   3.0  0.063  263.45  57.30  32.69  44.99  21\n",
      "3      1982   4.0  0.061  265.10  53.96  28.62  41.29  21\n",
      "4      1982   5.0  0.058  266.42  46.87  28.57  37.72  21\n",
      "...     ...   ...    ...     ...    ...    ...    ...  ..\n",
      "58989  2023  48.0  0.101  277.36  37.50  15.86  26.68  20\n",
      "58990  2023  49.0  0.097  275.73  38.12  16.77  27.45  20\n",
      "58991  2023  50.0  0.097  275.42  40.98  13.16  27.07  20\n",
      "58992  2023  51.0  0.097  274.98  43.98  11.14  27.56  20\n",
      "58993  2023  52.0  0.098  274.62  47.00  10.39  28.70  20\n",
      "\n",
      "[57618 rows x 8 columns]\n"
     ]
    }
   ],
   "source": [
    "import pandas as pd\n",
    "import os\n",
    "\n",
    "clean_df = CleanData(path)\n",
    "\n",
    "def ChangeIndex (df):\n",
    "    new_index = {\n",
    "        1: 22,\n",
    "        2: 24,\n",
    "        3: 23,\n",
    "        4: 25,\n",
    "        5: 3,\n",
    "        6: 4,\n",
    "        7: 8,\n",
    "        8: 19,\n",
    "        9: 20,\n",
    "        10: 21,\n",
    "        11: 9,\n",
    "        12: 9,\n",
    "        13: 10,\n",
    "        14: 11,\n",
    "        15: 12,\n",
    "        16: 13,\n",
    "        17: 14,\n",
    "        18: 15,\n",
    "        19: 16,\n",
    "        20: 25,\n",
    "        21: 17,\n",
    "        22: 18,\n",
    "        23: 6,\n",
    "        24: 1,\n",
    "        25: 2,\n",
    "        26: 7,\n",
    "        27: 5,\n",
    "    }\n",
    "\n",
    "    df['ID'].replace( new_index, inplace=True)\n",
    "    # print (df)\n",
    "    return df\n",
    "\n",
    "change_df = ChangeIndex(clean_df)\n",
    "print (change_df)\n"
   ]
  },
  {
   "cell_type": "markdown",
   "id": "f72beb8a",
   "metadata": {},
   "source": [
    "### 5. Реалізувати процедури для формування вибірок наступного виду (включаючи елементи аналізу): \n",
    "\n",
    "### Ряд VHI для області за вказаний рік, пошук екстремумів (min та max);\n",
    "### Ряд VHI за вказаний діапазон років для вказаних областей; виявити роки, протягом яких екстремальні посухи торкнулися більше вказаного відсотка областей по Україні (20% областей - 5 областей з 25);\n",
    "### Аналогічно для помірних посух"
   ]
  },
  {
   "cell_type": "code",
   "execution_count": 71,
   "id": "cf865a15",
   "metadata": {},
   "outputs": [
    {
     "name": "stdout",
     "output_type": "stream",
     "text": [
      "Мінімальне значення VHI за 1998.0 рік для області під номером 9: 35.03\n",
      "Максимальне значення VHI за 1998.0 рік для області під номером 9: 68.99\n",
      "За період з 2007.0 по 2013.0 було 52 тижнів з екстримальними посухами.\n",
      "Це дорівнює 0.5291005291005291% від усієї кількості тижнів цього діапазону\n",
      "За період з 1991.0 по 1999.0 було 1057 тижнів з помірними посухами.\n",
      "Це дорівнює 8.718963952816958% від усієї кількості тижнів цього діапазону\n"
     ]
    }
   ],
   "source": [
    "import pandas as pd\n",
    "import os\n",
    "\n",
    "change_df = ChangeIndex(clean_df)\n",
    "\n",
    "# Ряд VHI для області за вказаний рік, пошук екстремумів (min та max) \n",
    "def ExtremesByYear(df, year, regionid):\n",
    "    min = df[(df['year'] == year) & (df['ID'] == regionid)]['VHI'].min()\n",
    "    max = df[(df['year'] == year) & (df['ID'] == regionid)]['VHI'].max()\n",
    "    print (f'Мінімальне значення VHI за {year} рік для області під номером {regionid}: {min}\\nМаксимальне значення VHI за {year} рік для області під номером {regionid}: {max}')\n",
    "\n",
    "# Ряд VHI за вказаний діапазон років для вказаних областей; виявити роки, протягом яких екстремальні посухи торкнулися\n",
    "# більше вказаного відсотка областей по Україні (20% областей - 5 областей з 25);\n",
    "def YearswExtremedr(df, first_year, second_year):\n",
    "    all = df[(df['year'] >= first_year) & (df['year'] <= second_year)]['week'].count()\n",
    "    required = df[(df['year'] >= first_year) & (df['year'] <= second_year) & (df['VHI'] < 15)]['week'].count()\n",
    "    percent = (required/all)*100\n",
    "    print (f'За період з {first_year} по {second_year} було {required} тижнів з екстримальними посухами.\\nЦе дорівнює {percent}% від усієї кількості тижнів цього діапазону')\n",
    "\n",
    "# Аналогічно для помірних посух\n",
    "def YearswModeratedr(df, first_year, second_year):   # Помірною посухою будемо вважати коли VHI менше за 35 та більше 30\n",
    "    all = df[(df['year'] >= first_year) & (df['year'] <= second_year)]['week'].count()\n",
    "    required = df[(df['year'] >= first_year) & (df['year'] <= second_year) & (df['VHI'] < 35) & (df['VHI'] > 30)]['week'].count()\n",
    "    percent = (required/all)*100\n",
    "    print (f'За період з {first_year} по {second_year} було {required} тижнів з помірними посухами.\\nЦе дорівнює {percent}% від усієї кількості тижнів цього діапазону')\n",
    "\n",
    "ExtremesByYear(change_df, 1998.0, 9)\n",
    "YearswExtremedr (change_df, 2007.0, 2013.0)\n",
    "YearswModeratedr (change_df, 1991.0, 1999.0)"
   ]
  }
 ],
 "metadata": {
  "kernelspec": {
   "display_name": "Python 3 (ipykernel)",
   "language": "python",
   "name": "python3"
  },
  "language_info": {
   "codemirror_mode": {
    "name": "ipython",
    "version": 3
   },
   "file_extension": ".py",
   "mimetype": "text/x-python",
   "name": "python",
   "nbconvert_exporter": "python",
   "pygments_lexer": "ipython3",
   "version": "3.11.7"
  }
 },
 "nbformat": 4,
 "nbformat_minor": 5
}
